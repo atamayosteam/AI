{
 "cells": [
  {
   "cell_type": "code",
   "execution_count": 15,
   "metadata": {},
   "outputs": [
    {
     "name": "stderr",
     "output_type": "stream",
     "text": [
      "Downloading (…)lve/main/config.json: 100%|██████████| 665/665 [00:00<00:00, 42.0kB/s]\n",
      "Downloading (…)\"pytorch_model.bin\";: 100%|██████████| 548M/548M [02:55<00:00, 3.12MB/s] \n",
      "Generate config GenerationConfig {\n",
      "  \"bos_token_id\": 50256,\n",
      "  \"eos_token_id\": 50256,\n",
      "  \"transformers_version\": \"4.26.1\"\n",
      "}\n",
      "\n",
      "Downloading (…)neration_config.json: 100%|██████████| 124/124 [00:00<00:00, 14.1kB/s]\n",
      "loading configuration file generation_config.json from cache at aitextgen/models--gpt2/snapshots/e7da7f221d5bf496a48136c0cd264e630fe9fcc8/generation_config.json\n",
      "Generate config GenerationConfig {\n",
      "  \"_from_model_config\": true,\n",
      "  \"bos_token_id\": 50256,\n",
      "  \"eos_token_id\": 50256,\n",
      "  \"transformers_version\": \"4.26.1\"\n",
      "}\n",
      "\n"
     ]
    }
   ],
   "source": [
    "from aitextgen import aitextgen \n",
    "\n",
    "ai = aitextgen()\n",
    "\n"
   ]
  },
  {
   "cell_type": "code",
   "execution_count": 16,
   "metadata": {},
   "outputs": [
    {
     "name": "stderr",
     "output_type": "stream",
     "text": [
      "Generate config GenerationConfig {\n",
      "  \"bos_token_id\": 50256,\n",
      "  \"eos_token_id\": 50256,\n",
      "  \"transformers_version\": \"4.26.1\"\n",
      "}\n",
      "\n",
      "A decoder-only architecture is being used, but right-padding was detected! For correct generation results, please set `padding_side='left'` when initializing the tokenizer.\n"
     ]
    },
    {
     "name": "stdout",
     "output_type": "stream",
     "text": [
      "A new study published today in PNAS provides a new way to study the impact of alcohol consumption on cognition. This is a landmark finding that suggests that the impact of alcohol consumption on cognitive function may have profound implications for the treatment of alcohol addiction.\n",
      "\n",
      "\"This study, which is the first to show that alcohol consumption is associated with increased impulsivity, was a key step in understanding how alcohol use influences cognitive functioning,\" said lead author Dr. Paul M. F. Mays, PhD, of the University of Alabama at Birmingham.\n",
      "\n",
      "\"This is the first study to demonstrate that alcohol consumption is associated with increased impulsivity and impulsivity, and may be a critical factor in alcohol-related cognitive dysfunction in the general population,\" said Dr. F. M. Mays, PhD, of the University of Alabama at Birmingham.\n",
      "\n",
      "The research team included Dr. Kevin W. Raddatz, PhD, of the University of Alabama at Birmingham; Dr. Anthony M. McFarland, PhD, of the University of Alabama at Birmingham; Dr. John L. A. S. Schieber, PhD, of the University of Alabama at Birmingham; and Dr. Richard F. Moore, PhD, of the University of Alabama at Birmingham.\n",
      "\n",
      "The\n",
      "None\n"
     ]
    }
   ],
   "source": [
    "print (ai.generate())"
   ]
  },
  {
   "cell_type": "code",
   "execution_count": 19,
   "metadata": {},
   "outputs": [
    {
     "name": "stderr",
     "output_type": "stream",
     "text": [
      "Generate config GenerationConfig {\n",
      "  \"bos_token_id\": 50256,\n",
      "  \"eos_token_id\": 50256,\n",
      "  \"transformers_version\": \"4.26.1\"\n",
      "}\n",
      "\n"
     ]
    },
    {
     "name": "stdout",
     "output_type": "stream",
     "text": [
      "\u001b[1mI really like unicorns they are so\u001b[0m cute. They are always happy, and they always come for me. They are always happy and they always come for me.\n",
      "\n",
      "My first baby was a girl named Zoe. I was the only one who wasn't a girl. We had a lot of time together. It was love.\n",
      "\n",
      "My second baby was a boy named Daniel. I was the only one who wasn't a boy. We had a lot of time together. It was love\n",
      "==========\n",
      "\u001b[1mI really like unicorns they are so\u001b[0m adorable.\"\n",
      "\n",
      "\"I love unicorns.\"\n",
      "\n",
      "\"I love unicorns.\"\n",
      "\n",
      "\"I'm sure you can find them on some of the other islands.\"\n",
      "\n",
      "\"I'm sure you can find them on some of the other islands.\"\n",
      "\n",
      "\"I'm sure you can find them on some of the other islands.\"\n",
      "\n",
      "\"I'm sure you can find them on some of the other islands.\"\n",
      "\n",
      "\"I'm happy\n",
      "==========\n",
      "\u001b[1mI really like unicorns they are so\u001b[0m cute. They have a big mouth and their eyes are always wide, which is really cute. I also like that they are so cute, so well-dressed, so cute. They make you feel like you are in a great mood, even if you don't have a lot of money. They are so cute, that they look very different than your average anime characters. I like their eyes and their mouth that are so cute.\n",
      "\n",
      "So,\n",
      "None\n"
     ]
    }
   ],
   "source": [
    "print(ai.generate(prompt='I really like unicorns they are so', max_length=100, n=3))"
   ]
  },
  {
   "cell_type": "code",
   "execution_count": 20,
   "metadata": {},
   "outputs": [
    {
     "name": "stderr",
     "output_type": "stream",
     "text": [
      "Generate config GenerationConfig {\n",
      "  \"bos_token_id\": 50256,\n",
      "  \"eos_token_id\": 50256,\n",
      "  \"transformers_version\": \"4.26.1\"\n",
      "}\n",
      "\n"
     ]
    },
    {
     "name": "stdout",
     "output_type": "stream",
     "text": [
      "\u001b[1mI would use ChatGPT for my educational career because\u001b[0m it's free, it's intuitive, and it's always up-to-date.\n",
      "\n",
      "The problem is that there are so many things that are missing. ChatGPT does not track what you are doing and you end up with a bunch of useless junk.\n",
      "\n",
      "I've tried using it in different ways now, but I didn't like it as much as I should have.\n",
      "\n",
      "I used to use Skype for a while and would go to the right tab to see if someone was looking at what I was doing. But I didn't really understand what I was doing.\n",
      "\n",
      "The first time I used it, I was going to use it to watch YouTube videos and watch videos on another platform.\n",
      "\n",
      "I was going to use it to make me look at some of the things I want to watch.\n",
      "\n",
      "I was planning on using it to watch a video that would be very interesting to watch.\n",
      "\n",
      "And then I started using it to watch videos I would like to watch.\n",
      "\n",
      "You can see the video of a person watching a video on the right and the video of a person watching a video on the left.\n",
      "\n",
      "There's no way you can know what you are\n",
      "==========\n",
      "\u001b[1mI would use ChatGPT for my educational career because\u001b[0m it's not a chat program that requires you to be a programmer.\n",
      "\n",
      "ChatGPT was developed by the University of Michigan at College Park. It was originally designed as a way for students to study and communicate with one another, but it has been used widely and is now widely used in schools.\n",
      "\n",
      "You may also like:\n",
      "\n",
      "5 Reasons Why You Should Take ChatGPT Seriously\n",
      "\n",
      "You should check out ChatGPT now.\n",
      "\n",
      "You can also support ChatGPT on Patreon at:\n",
      "\n",
      "http://www.patreon.com/chatgpt\n",
      "\n",
      "You can find other features that we're doing here:\n",
      "\n",
      "https://www.patreon.com/chatgpt\n",
      "==========\n",
      "\u001b[1mI would use ChatGPT for my educational career because\u001b[0m it is a very quick and easy way to use the chat and it is well supported.\n",
      "\n",
      "The chat is available in English and French. If you like it, you can listen here.\n",
      "\n",
      "To use chatgpt:\n",
      "\n",
      "First install chatgpt.\n",
      "\n",
      "sudo apt-get install chatgpt\n",
      "\n",
      "Next install the Chatgpt Framework.\n",
      "\n",
      "sudo apt-get install chatgpt-framework\n",
      "\n",
      "Next install the Chatbot Framework.\n",
      "\n",
      "sudo apt-get install chatbot-framework\n",
      "\n",
      "Save your chatgpt, and use it to sign up for the email newsletter.\n",
      "\n",
      "The newsletter will be delivered to your inbox, and you can simply click on it and you will be sent a confirmation message.\n",
      "\n",
      "Note: You can also add your email address by going to http://www.chatgpt.com/email.\n",
      "\n",
      "To sign up for chatgpt:\n",
      "\n",
      "Go to http://www.chatgpt.com/email.\n",
      "\n",
      "Go to http://www.chatgpt.com/login.\n",
      "\n",
      "And now you can visit chatgpt.com again in your browser, or through our main website, www\n",
      "None\n"
     ]
    }
   ],
   "source": [
    "print(ai.generate(prompt='I would use ChatGPT for my educational career because', n=3))"
   ]
  }
 ],
 "metadata": {
  "kernelspec": {
   "display_name": "Python 3",
   "language": "python",
   "name": "python3"
  },
  "language_info": {
   "codemirror_mode": {
    "name": "ipython",
    "version": 3
   },
   "file_extension": ".py",
   "mimetype": "text/x-python",
   "name": "python",
   "nbconvert_exporter": "python",
   "pygments_lexer": "ipython3",
   "version": "3.9.6"
  },
  "orig_nbformat": 4,
  "vscode": {
   "interpreter": {
    "hash": "31f2aee4e71d21fbe5cf8b01ff0e069b9275f58929596ceb00d14d90e3e16cd6"
   }
  }
 },
 "nbformat": 4,
 "nbformat_minor": 2
}
